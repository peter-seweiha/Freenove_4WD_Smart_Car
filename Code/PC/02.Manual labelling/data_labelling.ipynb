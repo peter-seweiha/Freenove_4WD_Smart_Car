{
 "cells": [
  {
   "cell_type": "markdown",
   "id": "5d5640b9",
   "metadata": {},
   "source": [
    "# Manual Data Labelling"
   ]
  },
  {
   "cell_type": "code",
   "execution_count": 1,
   "id": "626d2ec1",
   "metadata": {},
   "outputs": [],
   "source": [
    "import numpy as np\n",
    "import pandas as pd\n",
    "from datetime import datetime\n",
    "import time\n",
    "\n",
    "import matplotlib.pyplot as plt\n",
    "\n",
    "import math\n",
    "import json\n",
    "import getpass\n",
    "from IPython.display import display, clear_output\n",
    "\n",
    "#import ML liberaries\n",
    "import cv2\n",
    "import tensorflow as tf\n",
    "\n",
    "from tensorflow.keras.models import Sequential\n",
    "from tensorflow.keras.layers import Conv2D, MaxPooling2D, Dense, Flatten, Dropout\n",
    "from tensorflow.keras.losses import SparseCategoricalCrossentropy\n",
    "\n",
    "from sklearn.model_selection import train_test_split\n",
    "from sklearn.metrics import accuracy_score"
   ]
  },
  {
   "cell_type": "code",
   "execution_count": 32,
   "id": "cd0863e4",
   "metadata": {},
   "outputs": [],
   "source": [
    "# Get the data from CSV file\n",
    "data = pd.read_csv('collected_training_data.csv')"
   ]
  },
  {
   "cell_type": "code",
   "execution_count": 33,
   "id": "9e53b6a4",
   "metadata": {},
   "outputs": [
    {
     "data": {
      "text/plain": [
       "1923"
      ]
     },
     "execution_count": 33,
     "metadata": {},
     "output_type": "execute_result"
    }
   ],
   "source": [
    "len(data)"
   ]
  },
  {
   "cell_type": "markdown",
   "id": "51be6735",
   "metadata": {},
   "source": [
    "## Setup to label images quickly"
   ]
  },
  {
   "cell_type": "code",
   "execution_count": 24,
   "id": "b46e9bf4",
   "metadata": {},
   "outputs": [],
   "source": [
    "def labeling_dataset(data = data, label_txt = ['Stop', 'SlowForward', 'SoftLeft', 'SoftRight'], START_FRAME = 200, END_FRAME = 300 ):\n",
    "    no_of_frames = END_FRAME - START_FRAME\n",
    "\n",
    "    dataset = data\n",
    "    # create a new column in data\n",
    "    dataset['labels'] = None\n",
    "    dataset['label txt'] = None\n",
    "\n",
    "    # iterate through data to create histograms\n",
    "    for i in range(START_FRAME,END_FRAME ):\n",
    "        # get the image by location (as json format)\n",
    "        img_as_json = dataset['img'][i]\n",
    "\n",
    "        # convert the json to nested list\n",
    "        img_as_list = json.loads(img_as_json)\n",
    "        # convert the nested list to np.array\n",
    "        img = np.array(img_as_list)\n",
    "        \n",
    "        # show the image\n",
    "        plt.figure()\n",
    "        plt.imshow(img, cmap='gray')\n",
    "        plt.title(f\"{i} , {dataset['motion'][i]}\")\n",
    "        plt.show()\n",
    "        #display(plt.gcf())\n",
    "        plt.close()\n",
    "\n",
    "        # Capture manual label assoociated with image\n",
    "        valid_entries = {'0', '1', '2' , '3'}  # Define the valid directions\n",
    "\n",
    "        while True:\n",
    "            label = getpass.getpass(\"Add driving direction:\")  \n",
    "            if label in valid_entries:\n",
    "                break  # Break the loop if the input is valid\n",
    "            else:\n",
    "                print(\"Invalid direction....\")\n",
    "\n",
    "        # label = getpass.getpass(\"Add driving direction:\")\n",
    "        dataset.at[i, 'labels'] = int(label)\n",
    "        dataset.at[i, 'label txt'] = label_txt[int(label)]\n",
    "\n",
    "        # Clear the previous output to show the next image\n",
    "        if i != END_FRAME - 1:\n",
    "            clear_output(wait=True)\n",
    "    \n",
    "    dataset = dataset[['img' , 'labels' , 'label txt']]\n",
    "    dataset = dataset[dataset['labels'].notnull()]\n",
    "    \n",
    "    return dataset"
   ]
  },
  {
   "cell_type": "code",
   "execution_count": 35,
   "id": "b57d9d00",
   "metadata": {},
   "outputs": [
    {
     "data": {
      "image/png": "[encoded data removed]",
      "text/plain": [
       "<Figure size 432x288 with 1 Axes>"
      ]
     },
     "metadata": {
      "needs_background": "light"
     },
     "output_type": "display_data"
    }
   ],
   "source": [
    "labelled_images_2 = labeling_dataset(data = data, \n",
    "                 label_txt = ['Stop', 'SlowForward', 'SoftLeft', 'SoftRight'],\n",
    "                 START_FRAME = 0, \n",
    "                 END_FRAME = 1923 )"
   ]
  },
  {
   "cell_type": "code",
   "execution_count": 36,
   "id": "6623bf37",
   "metadata": {},
   "outputs": [],
   "source": [
    "labelled_images_2.to_csv('labelled_images_2.csv', index=False)"
   ]
  },
  {
   "cell_type": "code",
   "execution_count": null,
   "id": "0a7965b2",
   "metadata": {},
   "outputs": [],
   "source": []
  }
 ],
 "metadata": {
  "kernelspec": {
   "display_name": "Python 3",
   "language": "python",
   "name": "python3"
  },
  "language_info": {
   "codemirror_mode": {
    "name": "ipython",
    "version": 3
   },
   "file_extension": ".py",
   "mimetype": "text/x-python",
   "name": "python",
   "nbconvert_exporter": "python",
   "pygments_lexer": "ipython3",
   "version": "3.8.8"
  }
 },
 "nbformat": 4,
 "nbformat_minor": 5
}
